{
 "cells": [
  {
   "cell_type": "code",
   "execution_count": null,
   "id": "3de28755-ae82-4dd6-be3f-f2a2e84cca38",
   "metadata": {},
   "outputs": [],
   "source": [
    "%matplotlib inline\n",
    "import flopy\n",
    "import matplotlib as mpl\n",
    "import matplotlib.pyplot as plt\n",
    "import numpy as np\n",
    "import pathlib as pl\n",
    "\n",
    "from matplotlib.animation import FuncAnimation\n",
    "from IPython.display import HTML\n"
   ]
  },
  {
   "cell_type": "code",
   "execution_count": null,
   "id": "45e56811-39bf-4638-9636-936486ef9ee2",
   "metadata": {},
   "outputs": [],
   "source": [
    "fig_path = pl.Path(\"../figures\")\n",
    "fig_path.mkdir(exist_ok=True, parents=True)\n",
    "ani_path = pl.Path(\"../animation\")\n",
    "ani_path.mkdir(exist_ok=True, parents=True)"
   ]
  },
  {
   "cell_type": "markdown",
   "id": "aea50120-63e8-494f-8f74-1e5a04e6889e",
   "metadata": {},
   "source": [
    "# Read the elevation data"
   ]
  },
  {
   "cell_type": "code",
   "execution_count": null,
   "id": "93d3fe72-996e-4c4c-bf9d-36709fdf4078",
   "metadata": {},
   "outputs": [],
   "source": [
    "fpath = pl.Path(\"../data/model_elevations.csv\")"
   ]
  },
  {
   "cell_type": "code",
   "execution_count": null,
   "id": "f759944d-2f0e-4f46-862d-5881bf7a472b",
   "metadata": {},
   "outputs": [],
   "source": [
    "elevation_data = np.genfromtxt(fpath, names=True, delimiter=\",\")"
   ]
  },
  {
   "cell_type": "code",
   "execution_count": null,
   "id": "b0a556c8-418c-4fc2-8926-642adb1d9274",
   "metadata": {},
   "outputs": [],
   "source": [
    "elevation_data.dtype.names"
   ]
  },
  {
   "cell_type": "markdown",
   "id": "08bb28d8-8413-4964-b626-d4f4e4f93091",
   "metadata": {},
   "source": [
    "# Define the problem dimensions"
   ]
  },
  {
   "cell_type": "code",
   "execution_count": null,
   "id": "3e09a7d3-eaa2-4074-a656-7a3e3e8fe1f6",
   "metadata": {},
   "outputs": [],
   "source": [
    "km2m = 1000.0\n",
    "len_x = 10000.0 * km2m\n",
    "len_z = 20.0 * km2m"
   ]
  },
  {
   "cell_type": "code",
   "execution_count": null,
   "id": "056f364f-4a3e-47c4-86cc-1a32d6dca0e8",
   "metadata": {},
   "outputs": [],
   "source": [
    "nlay = 20\n",
    "nrow = 1\n",
    "ncol = elevation_data[\"x\"].shape[0]\n",
    "nlay, nrow, ncol"
   ]
  },
  {
   "cell_type": "code",
   "execution_count": null,
   "id": "950ab1cc-fefd-4bd4-b38f-626be9bf8ae3",
   "metadata": {},
   "outputs": [],
   "source": [
    "delx, dely = len_x / ncol, 1.0\n",
    "delx, dely"
   ]
  },
  {
   "cell_type": "code",
   "execution_count": null,
   "id": "4399c9f9-b9bc-4ac7-88c2-1aabbc9cbb48",
   "metadata": {},
   "outputs": [],
   "source": [
    "years2days = 365.25\n",
    "sim_length_years = 1e6\n",
    "sim_length = sim_length_years * years2days\n",
    "step_length_years = sim_length_years / 100\n",
    "nstp = sim_length_years / step_length_years\n",
    "nper = 1\n",
    "tdis_data = [(sim_length, nstp, 1.0)]"
   ]
  },
  {
   "cell_type": "markdown",
   "id": "45080531-6532-4686-b394-ed66f4289306",
   "metadata": {
    "execution": {
     "iopub.execute_input": "2024-12-03T20:11:48.457001Z",
     "iopub.status.busy": "2024-12-03T20:11:48.456528Z",
     "iopub.status.idle": "2024-12-03T20:11:48.462770Z",
     "shell.execute_reply": "2024-12-03T20:11:48.461222Z",
     "shell.execute_reply.started": "2024-12-03T20:11:48.456965Z"
    }
   },
   "source": [
    "# Scale the cell center and elevation data using problem dimensions"
   ]
  },
  {
   "cell_type": "code",
   "execution_count": null,
   "id": "5ac48c44-e7ea-4273-b1f1-1ed58277071b",
   "metadata": {},
   "outputs": [],
   "source": [
    "x = elevation_data[\"x\"] * len_x"
   ]
  },
  {
   "cell_type": "code",
   "execution_count": null,
   "id": "547128e5-ca90-4a58-94f5-cd5b1f02af06",
   "metadata": {},
   "outputs": [],
   "source": [
    "datum = 0.6 * len_z"
   ]
  },
  {
   "cell_type": "code",
   "execution_count": null,
   "id": "c522a6e8-683c-4255-8499-7b5eabef42aa",
   "metadata": {},
   "outputs": [],
   "source": [
    "h0 = 0.415 * len_z - datum"
   ]
  },
  {
   "cell_type": "code",
   "execution_count": null,
   "id": "57b86ca3-11ee-46e2-b107-8a5edd3fe725",
   "metadata": {},
   "outputs": [],
   "source": [
    "top = elevation_data[\"top\"] * len_z - datum"
   ]
  },
  {
   "cell_type": "code",
   "execution_count": null,
   "id": "5e805184-71a5-48b4-ad26-2216f7e902f7",
   "metadata": {},
   "outputs": [],
   "source": [
    "bot = elevation_data[\"bottom\"] * len_z - datum"
   ]
  },
  {
   "cell_type": "code",
   "execution_count": null,
   "id": "e82c9a2b-7a0d-4fdd-a7dc-7f0cb0f00283",
   "metadata": {},
   "outputs": [],
   "source": [
    "cryo = elevation_data[\"cryosphere\"] * len_z - datum"
   ]
  },
  {
   "cell_type": "code",
   "execution_count": null,
   "id": "fe5ff0cc-2409-406e-bfaf-8d7458bf2517",
   "metadata": {},
   "outputs": [],
   "source": [
    "rech = elevation_data[\"recharge\"] * len_z - datum"
   ]
  },
  {
   "cell_type": "markdown",
   "id": "e2807f4c-f648-42f2-8727-be41e4f25bd5",
   "metadata": {},
   "source": [
    "# Calculate the bottom of each layer and the elevation of each node"
   ]
  },
  {
   "cell_type": "code",
   "execution_count": null,
   "id": "235876f4-44ae-44e6-9bb0-a9a437a83e25",
   "metadata": {},
   "outputs": [],
   "source": [
    "thickness = top - bot\n",
    "dz = thickness / nlay"
   ]
  },
  {
   "cell_type": "code",
   "execution_count": null,
   "id": "e927939d-d91f-40b2-9b0a-39253355d38b",
   "metadata": {},
   "outputs": [],
   "source": [
    "botm = [top - dz * (k + 1) for k in range(nlay)]"
   ]
  },
  {
   "cell_type": "code",
   "execution_count": null,
   "id": "4c7a5f4b-848c-4986-8858-4b98c24c727f",
   "metadata": {},
   "outputs": [],
   "source": [
    "znode = [top - b + dz / 2 for b in botm]"
   ]
  },
  {
   "cell_type": "markdown",
   "id": "b52ef9fb-7433-449c-ae29-cd3697bf317a",
   "metadata": {},
   "source": [
    "# Plot the model domain"
   ]
  },
  {
   "cell_type": "code",
   "execution_count": null,
   "id": "ba939628-de12-49cc-8197-c7c2ca2cdf9a",
   "metadata": {},
   "outputs": [],
   "source": [
    "with flopy.plot.styles.USGSPlot():\n",
    "    fig, ax = plt.subplots(\n",
    "        ncols=1,\n",
    "        nrows=1,\n",
    "        layout=\"constrained\",\n",
    "        figsize=(8, 3),\n",
    "        )\n",
    "    ax.set_xlim(0, len_x)\n",
    "    ax.set_ylim(-13000, 9000)\n",
    "    ax.plot(x, top, color=\"red\", lw=3., label=\"Specified temperature\")\n",
    "    ax.plot(x, rech, color=\"blue\", lw=3., label=\"Recharge\")\n",
    "    ax.fill_between(x, top, y2=cryo, color=\"green\", label=\"Cryosphere\")\n",
    "    ax.fill_between(x, bot, y2=h0, color=\"cyan\", label=\"Initial head\")\n",
    "    for b in botm[:-1]:\n",
    "        ax.plot(x, b, color=\"black\", lw=0.75, label=None)\n",
    "    ax.axhline(0, color=\"black\", ls=\"--\", label=None)\n",
    "    ax.plot(-100, 0, color=\"black\", lw=0.75, label=\"Model layers\")\n",
    "    ax.plot(x, bot, color=\"orange\", lw=3, label=\"Geothermal gradient\")\n",
    "    ax.set_xlabel(\"x-coordinate, m\")\n",
    "    ax.set_ylabel(\"Elevation, m\")\n",
    "    flopy.plot.styles.graph_legend(ax=ax, ncol=2, title=\"\", loc=\"lower left\", labelspacing=0.15)\n",
    "    \n",
    "    fig.savefig(fig_path / f\"conceptual_model.png\", dpi=300, transparent=True)\n",
    "    "
   ]
  },
  {
   "cell_type": "markdown",
   "id": "59a43e51-8f8f-4f3b-8d47-679a92860981",
   "metadata": {},
   "source": [
    "# Calculate the depth-dependent permeability, porosity, and specific storage"
   ]
  },
  {
   "cell_type": "code",
   "execution_count": null,
   "id": "ddaa8c8d-c71c-4c64-ac81-73f8799be231",
   "metadata": {},
   "outputs": [],
   "source": [
    "10**(-12.65 - 3.2 * np.log10(1))"
   ]
  },
  {
   "cell_type": "code",
   "execution_count": null,
   "id": "97478fcc-3a6f-404c-9b7f-517279135598",
   "metadata": {},
   "outputs": [],
   "source": [
    "logk = np.array([-12.65 - 3.2 * np.log10(z / km2m) for z in znode]).reshape(nlay, nrow, ncol)"
   ]
  },
  {
   "cell_type": "code",
   "execution_count": null,
   "id": "f82a5b6f-8997-4337-b8d3-9eb8de1741e3",
   "metadata": {},
   "outputs": [],
   "source": [
    "10**logk.mean()"
   ]
  },
  {
   "cell_type": "code",
   "execution_count": null,
   "id": "febcd48c-4243-4778-8edd-a9796f078262",
   "metadata": {},
   "outputs": [],
   "source": [
    "K = 86400.0 * 1000.0 * 3.7 * 10**logk / 1e-3 # m/d"
   ]
  },
  {
   "cell_type": "code",
   "execution_count": null,
   "id": "eecc942b-2002-4016-b556-2046222294d7",
   "metadata": {},
   "outputs": [],
   "source": [
    "logn = np.array([-1.65 - 0.8 * np.log10(z / km2m) for z in znode]).reshape(nlay, nrow, ncol)"
   ]
  },
  {
   "cell_type": "code",
   "execution_count": null,
   "id": "eacbca64-eba7-41ab-b751-755a068f9ae9",
   "metadata": {},
   "outputs": [],
   "source": [
    "10**logn.mean()"
   ]
  },
  {
   "cell_type": "code",
   "execution_count": null,
   "id": "ff24d241-7411-4183-9c9c-d5d128ad9870",
   "metadata": {},
   "outputs": [],
   "source": [
    "porosity = 10**logn"
   ]
  },
  {
   "cell_type": "code",
   "execution_count": null,
   "id": "2e89cf42-cbfd-4ff2-9998-f55555310031",
   "metadata": {},
   "outputs": [],
   "source": [
    "ss = 1000. * 3.7 * (5e-10 + porosity * 4.8e-10)\n",
    "ss.min(), ss.mean(), ss.max()"
   ]
  },
  {
   "cell_type": "markdown",
   "id": "7a9e5c33-a387-43b7-a159-aef21b11424c",
   "metadata": {},
   "source": [
    "# Create the base model"
   ]
  },
  {
   "cell_type": "code",
   "execution_count": null,
   "id": "ad27b8bb-546a-4ac8-94e4-90ddb9c03001",
   "metadata": {},
   "outputs": [],
   "source": [
    "ws = pl.Path(\"../run/\")\n",
    "name = \"mars\""
   ]
  },
  {
   "cell_type": "code",
   "execution_count": null,
   "id": "2229ce34-766c-426d-b44b-55c010d7a9ac",
   "metadata": {},
   "outputs": [],
   "source": [
    "sim = flopy.mf6.MFSimulation(sim_name=name, sim_ws=ws)"
   ]
  },
  {
   "cell_type": "code",
   "execution_count": null,
   "id": "99af9665-5748-4261-9aae-355e76af5b9b",
   "metadata": {},
   "outputs": [],
   "source": [
    "tdis = flopy.mf6.ModflowTdis(sim, nper=nper, perioddata=tdis_data)"
   ]
  },
  {
   "cell_type": "code",
   "execution_count": null,
   "id": "42ecbf5a-7190-4e72-ae22-766000719a82",
   "metadata": {},
   "outputs": [],
   "source": [
    "ims = flopy.mf6.ModflowIms(\n",
    "    sim, \n",
    "    complexity=\"simple\", \n",
    "    linear_acceleration=\"bicgstab\", \n",
    "    inner_dvclose=1e-6, \n",
    "    outer_dvclose=1e-5,\n",
    "    outer_maximum=200,\n",
    "    inner_maximum=100,\n",
    "    print_option=\"ALL\",\n",
    ")"
   ]
  },
  {
   "cell_type": "markdown",
   "id": "8fd46708-0ebb-43e9-bef5-ec3d8ce442df",
   "metadata": {},
   "source": [
    "## flow model"
   ]
  },
  {
   "cell_type": "code",
   "execution_count": null,
   "id": "4d53327c-f160-479f-a09b-9274804e82d7",
   "metadata": {},
   "outputs": [],
   "source": [
    "gwf = flopy.mf6.ModflowGwf(sim, modelname=f\"{name}_flow\", newtonoptions=\"under_relaxation\")"
   ]
  },
  {
   "cell_type": "code",
   "execution_count": null,
   "id": "ea3bbc94-7351-471f-8096-dde9e32d3fb8",
   "metadata": {},
   "outputs": [],
   "source": [
    "dis = flopy.mf6.ModflowGwfdis(gwf, delr=delx, delc=dely, nlay=nlay, nrow=nrow, ncol=ncol, top=top, botm=botm)"
   ]
  },
  {
   "cell_type": "markdown",
   "id": "a8023a23-5191-4eee-a387-ae7ec5041518",
   "metadata": {},
   "source": [
    "### Plot hydraulic properties using the gwf model"
   ]
  },
  {
   "cell_type": "code",
   "execution_count": null,
   "id": "c779cd4c-e15a-4dd9-a2d5-748c30d5d4cb",
   "metadata": {},
   "outputs": [],
   "source": [
    "extent = (0, len_x, -13000, 9000)"
   ]
  },
  {
   "cell_type": "code",
   "execution_count": null,
   "id": "3f47f031-2216-4597-a09a-fabed9b5088e",
   "metadata": {},
   "outputs": [],
   "source": [
    "with flopy.plot.styles.USGSPlot():\n",
    "    fig, axs = plt.subplots(\n",
    "        ncols=1,\n",
    "        nrows=3,\n",
    "        layout=\"constrained\",\n",
    "        figsize=(8, 9),\n",
    "        sharex=True,\n",
    "        )\n",
    "    ax = axs[0]\n",
    "    ax.set_xlim(0, len_x)\n",
    "    ax.set_ylim(-13000, 9000)\n",
    "    ax.plot(x, top, color=\"red\", lw=3., label=\"Specified temperature\")\n",
    "    ax.plot(x, rech, color=\"blue\", lw=3., label=\"Recharge\")\n",
    "    ax.fill_between(x, top, y2=cryo, color=\"green\", label=\"Cryosphere\")\n",
    "    ax.fill_between(x, bot, y2=h0, color=\"cyan\", label=\"Initial head\")\n",
    "    for b in botm[:-1]:\n",
    "        ax.plot(x, b, color=\"black\", lw=0.75, label=None)\n",
    "    ax.axhline(0, color=\"black\", ls=\"--\", label=None)\n",
    "    ax.plot(-100, 0, color=\"black\", lw=0.75, label=\"Model layers\")\n",
    "    ax.plot(x, bot, color=\"orange\", lw=3, label=\"Geothermal gradient\")\n",
    "    ax.set_ylabel(\"Elevation, m\")\n",
    "    flopy.plot.styles.graph_legend(ax=ax, ncol=2, title=\"\", loc=\"lower left\", labelspacing=0.15)\n",
    "    \n",
    "    ax = axs[1]\n",
    "    xs = flopy.plot.PlotCrossSection(model=gwf, ax=ax, line={\"row\": 0}, extent=extent)\n",
    "    pk = xs.plot_array(logk)\n",
    "    ax.plot(x, top, color=\"red\", lw=3., label=\"Specified temperature\")\n",
    "    ax.plot(x, rech, color=\"blue\", lw=3., label=\"Recharge\")\n",
    "    ax.plot(x, bot, color=\"orange\", lw=3, label=\"Geothermal gradient\")\n",
    "    ax.axhline(0, color=\"black\", ls=\"--\", label=None)\n",
    "    ax.set_ylabel(\"Elevation, m\")\n",
    "    cax = ax.inset_axes([0.15, 0.2, 0.3, 0.04])\n",
    "    cbar = fig.colorbar(pk, cax=cax, orientation='horizontal')\n",
    "    cbar.set_label(r\"$\\text{log} k\\text{, m}^2$\")\n",
    "    flopy.plot.styles.add_text(ax=ax, x=0.75, y=0.9, text=r\"$\\text{log} k = -12.65 - 3.2 \\text{log} z$\", bold=False, italic=False)\n",
    "    \n",
    "    ax = axs[2]\n",
    "    xs1 = flopy.plot.PlotCrossSection(model=gwf, ax=ax, line={\"row\": 0}, extent=extent)\n",
    "    pn = xs1.plot_array(logn)\n",
    "    ax.plot(x, top, color=\"red\", lw=3., label=\"Specified temperature\")\n",
    "    ax.plot(x, rech, color=\"blue\", lw=3., label=\"Recharge\")\n",
    "    ax.plot(x, bot, color=\"orange\", lw=3, label=\"Geothermal gradient\")\n",
    "    ax.axhline(0, color=\"black\", ls=\"--\", label=None)\n",
    "    ax.set_ylabel(\"Elevation, m\")\n",
    "    ax.set_xlabel(\"x-coordinate, m\")\n",
    "    cax = ax.inset_axes([0.15, 0.2, 0.3, 0.04])\n",
    "    cbar = fig.colorbar(pn, cax=cax, orientation='horizontal')\n",
    "    cbar.set_label(r\"$\\text{log} \\theta\\text{, unitless}$\")\n",
    "    flopy.plot.styles.add_text(ax=ax, x=0.75, y=0.9, text=r\"$\\text{log} \\theta = -1.65 - 0.8 \\text{log} z$\", bold=False, italic=False)\n",
    "\n",
    "    fig.savefig(fig_path / f\"model_grid.png\", dpi=300, transparent=True)\n",
    "    "
   ]
  },
  {
   "cell_type": "markdown",
   "id": "504e9143-4f4e-4971-a842-22bfaea0d4ce",
   "metadata": {},
   "source": [
    "### Build the rest of the flow model"
   ]
  },
  {
   "cell_type": "code",
   "execution_count": null,
   "id": "6b62c0b7-2dea-4e9f-9755-6ead94b04fc0",
   "metadata": {},
   "outputs": [],
   "source": [
    "npf = flopy.mf6.ModflowGwfnpf(gwf, k=K, icelltype=1)"
   ]
  },
  {
   "cell_type": "code",
   "execution_count": null,
   "id": "79746e1e-84c4-4ebe-b462-d950ce788d06",
   "metadata": {},
   "outputs": [],
   "source": [
    "sto = flopy.mf6.ModflowGwfsto(gwf, sy=porosity, ss=ss, transient={0: True}, iconvert=1)"
   ]
  },
  {
   "cell_type": "code",
   "execution_count": null,
   "id": "a9d2c8d1-e113-432c-b50e-20349c50c334",
   "metadata": {},
   "outputs": [],
   "source": [
    "ic = flopy.mf6.ModflowGwfic(gwf, strt=h0)"
   ]
  },
  {
   "cell_type": "code",
   "execution_count": null,
   "id": "69b4cd93-d095-4dd2-8d70-12fbe8bef440",
   "metadata": {},
   "outputs": [],
   "source": [
    "rch_rate = 2e-10 * years2days\n",
    "rch_spd = []\n",
    "for idx, r in enumerate(rech):\n",
    "    if not np.isnan(r):\n",
    "        rch_spd.append((0, 0, idx, rch_rate))"
   ]
  },
  {
   "cell_type": "code",
   "execution_count": null,
   "id": "6f29f464-2c4a-422c-b59c-92aa948ff6ce",
   "metadata": {},
   "outputs": [],
   "source": [
    "rch = flopy.mf6.ModflowGwfrch(gwf, stress_period_data=rch_spd, pname=\"RCH-1\")"
   ]
  },
  {
   "cell_type": "code",
   "execution_count": null,
   "id": "3f2561d3-18d3-4770-9043-f0f2fde8c8e7",
   "metadata": {},
   "outputs": [],
   "source": [
    "drn_spd = []\n",
    "for idx, t in enumerate(top):\n",
    "    if t < 0.0:\n",
    "        cond = K[0, 0, idx] * delx * dely / znode[0][idx]\n",
    "        drn_spd.append((0, 0, idx, float(t), float(cond)))\n",
    "        "
   ]
  },
  {
   "cell_type": "code",
   "execution_count": null,
   "id": "57534ab3-1204-4f1b-8190-c8e45c30b669",
   "metadata": {},
   "outputs": [],
   "source": [
    "drn = flopy.mf6.ModflowGwfdrn(gwf, stress_period_data=drn_spd, pname=\"DRN-1\")"
   ]
  },
  {
   "cell_type": "code",
   "execution_count": null,
   "id": "7dbd28fb-c4eb-4794-9133-43260ceebdf0",
   "metadata": {},
   "outputs": [],
   "source": [
    "oc = flopy.mf6.ModflowGwfoc(gwf, head_filerecord=f\"{name}.hds\", saverecord=[(\"HEAD\", \"FREQUENCY\", \"10\")])"
   ]
  },
  {
   "cell_type": "code",
   "execution_count": null,
   "id": "e3bb07d2-0df2-42b2-b4ec-06d84128fd99",
   "metadata": {},
   "outputs": [],
   "source": []
  },
  {
   "cell_type": "code",
   "execution_count": null,
   "id": "1f38878c-b678-4144-8946-ab9782bce45b",
   "metadata": {},
   "outputs": [],
   "source": []
  },
  {
   "cell_type": "markdown",
   "id": "b96fb461-e3fa-4ea9-af08-f7c0447edb4f",
   "metadata": {},
   "source": [
    "# Write model datasets and run the model"
   ]
  },
  {
   "cell_type": "code",
   "execution_count": null,
   "id": "fc2edfbf-1106-4272-9045-f253304049e6",
   "metadata": {},
   "outputs": [],
   "source": [
    "sim.write_simulation()"
   ]
  },
  {
   "cell_type": "code",
   "execution_count": null,
   "id": "8b84128e-3681-4eea-8d7f-b444da7f77b2",
   "metadata": {},
   "outputs": [],
   "source": [
    "sim.run_simulation(silent=True)"
   ]
  },
  {
   "cell_type": "markdown",
   "id": "679db09b-dfab-4629-9bdd-c9e71c404b2c",
   "metadata": {},
   "source": [
    "# Animate results"
   ]
  },
  {
   "cell_type": "code",
   "execution_count": null,
   "id": "0d1b8452-8727-4bb6-9f0e-dbc0024ec584",
   "metadata": {},
   "outputs": [],
   "source": [
    "ani_ext = \".mp4\"\n",
    "Writer = mpl.animation.writers[\"ffmpeg\"]\n",
    "writer = Writer(fps=2, metadata=dict(artist=\"jdhughes\"), bitrate=2056)"
   ]
  },
  {
   "cell_type": "code",
   "execution_count": null,
   "id": "1d81abda-b783-4486-ba54-5d7531f60cd2",
   "metadata": {},
   "outputs": [],
   "source": [
    "output_times = gwf.output.head().get_times()\n",
    "frames = np.arange(1, len(output_times), dtype=int)"
   ]
  },
  {
   "cell_type": "code",
   "execution_count": null,
   "id": "634bb7f7-c1ac-45c7-9ba4-2e3ebbaa4491",
   "metadata": {},
   "outputs": [],
   "source": [
    "vmin, vmax = 1e20, -1e20\n",
    "for totim in output_times:\n",
    "    head = gwf.output.head().get_data(totim=totim)\n",
    "    vmin = min(vmin, head[head <= 1e20].min())\n",
    "    vmax = max(vmax, head[head <= 1e20].max())    \n",
    "vmin, vmax"
   ]
  },
  {
   "cell_type": "code",
   "execution_count": null,
   "id": "1eba30b0-349c-4c4d-95ae-78b0607c750b",
   "metadata": {},
   "outputs": [],
   "source": [
    "with flopy.plot.styles.USGSPlot():\n",
    "    fig, ax = plt.subplots(\n",
    "        ncols=1,\n",
    "        nrows=1,\n",
    "        layout=\"constrained\",\n",
    "        figsize=(8, 3),\n",
    "        )\n",
    "    \n",
    "    totim = output_times[0]\n",
    "    toyears = int(totim / years2days)\n",
    "    title_str = f\"{toyears:>,} years\"\n",
    "    fig.suptitle(title_str, fontsize=8)\n",
    "    \n",
    "    head = gwf.output.head().get_data(totim=totim)\n",
    "    \n",
    "    xs = flopy.plot.PlotCrossSection(model=gwf, ax=ax, line={\"row\": 0}, extent=extent)\n",
    "    pk = xs.plot_array(head, head=head, vmin=vmin, vmax=vmax)\n",
    "    ax.plot(x, top, color=\"red\", lw=3., label=\"Specified temperature\")\n",
    "    ax.plot(x, rech, color=\"blue\", lw=3., label=\"Recharge\")\n",
    "    ax.plot(x, bot, color=\"orange\", lw=3, label=\"Geothermal gradient\")\n",
    "    ax.axhline(0, color=\"black\", ls=\"--\", label=None)\n",
    "    ax.set_ylabel(\"Elevation, m\")\n",
    "    cax = ax.inset_axes([0.15, 0.2, 0.3, 0.04])\n",
    "    cbar = fig.colorbar(pk, cax=cax, orientation='horizontal')\n",
    "    cbar.set_label(\"Head, m\")\n",
    "    flopy.plot.styles.graph_legend(ax=ax, ncol=1, title=\"\", loc=\"upper right\", labelspacing=0.15)\n",
    "\n",
    "    def func(idx):\n",
    "        global pk\n",
    "        totim = output_times[idx]\n",
    "        toyears = int(totim / years2days)\n",
    "        title_str = f\"{toyears:>,} years\"\n",
    "        fig.suptitle(title_str, fontsize=8)\n",
    "        \n",
    "        head = gwf.output.head().get_data(totim=totim)\n",
    "\n",
    "        pk.remove()\n",
    "        pk = xs.plot_array(head, head=head)\n",
    "\n",
    "        return pk\n",
    "\n",
    "    ani = FuncAnimation(fig, func, frames=frames, blit=False)\n",
    "    #HTML(ani.to_jshtml())    \n",
    "    ani.save(ani_path / f\"head_results{ani_ext}\", writer=writer)"
   ]
  },
  {
   "cell_type": "code",
   "execution_count": null,
   "id": "e7676a1d-f844-4dbc-be41-0dd5b904f29d",
   "metadata": {},
   "outputs": [],
   "source": []
  },
  {
   "cell_type": "code",
   "execution_count": null,
   "id": "96965b19-59d5-414b-ac8d-457d5fd5bc8d",
   "metadata": {},
   "outputs": [],
   "source": []
  }
 ],
 "metadata": {
  "kernelspec": {
   "display_name": "Python 3 (ipykernel)",
   "language": "python",
   "name": "python3"
  },
  "language_info": {
   "codemirror_mode": {
    "name": "ipython",
    "version": 3
   },
   "file_extension": ".py",
   "mimetype": "text/x-python",
   "name": "python",
   "nbconvert_exporter": "python",
   "pygments_lexer": "ipython3",
   "version": "3.10.14"
  }
 },
 "nbformat": 4,
 "nbformat_minor": 5
}

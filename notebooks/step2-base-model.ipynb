{
 "cells": [
  {
   "cell_type": "code",
   "execution_count": null,
   "id": "3de28755-ae82-4dd6-be3f-f2a2e84cca38",
   "metadata": {},
   "outputs": [],
   "source": [
    "%matplotlib inline\n",
    "import flopy\n",
    "import matplotlib as mpl\n",
    "import matplotlib.pyplot as plt\n",
    "import numpy as np\n",
    "import pathlib as pl\n",
    "\n",
    "from matplotlib.animation import FuncAnimation\n",
    "from IPython.display import HTML\n"
   ]
  },
  {
   "cell_type": "code",
   "execution_count": null,
   "id": "45e56811-39bf-4638-9636-936486ef9ee2",
   "metadata": {},
   "outputs": [],
   "source": [
    "fig_path = pl.Path(\"../figures\")\n",
    "fig_path.mkdir(exist_ok=True, parents=True)\n",
    "ani_path = pl.Path(\"../animation\")\n",
    "ani_path.mkdir(exist_ok=True, parents=True)"
   ]
  },
  {
   "cell_type": "code",
   "execution_count": null,
   "id": "40ed4476-06a9-49bf-8e1f-d06649ce7092",
   "metadata": {},
   "outputs": [],
   "source": [
    "def custom_print(text):\n",
    "    \"\"\"Prints the provided text without advancing.\"\"\"\n",
    "    print(256*\" \", end=\"\\r\")\n",
    "    print(text, end=\"\\r\")"
   ]
  },
  {
   "cell_type": "markdown",
   "id": "a9148c75-0a8d-4020-b03d-0b8e7e74cd5a",
   "metadata": {},
   "source": [
    "# Constants"
   ]
  },
  {
   "cell_type": "code",
   "execution_count": null,
   "id": "fdb62634-124c-4cdc-9bf4-47315fdde20f",
   "metadata": {},
   "outputs": [],
   "source": [
    "cps = 1100.0  # Zone 1 heat capacity ($\\frac{J}{kg \\cdot ^{\\circ} C}$)\n",
    "cpw = 4180.0  # Heat capacity of water ($\\frac{J}{kg \\cdot ^{\\circ} C}$)\n",
    "rhow = 1000.0  # Density of water ($kg/m^3$)\n",
    "rhos = 2500.0  # Density of dry solid aquifer material ($kg/m^3$)\n",
    "lhv = 2500.0  # Latent heat of vaporization ($kJ/kg$)\n",
    "gravity = 3.7  # Gravity ($m/s^2$)\n",
    "viscosity = 0.001  # Viscosity ($Pa s$)\n",
    "alpha = 5e-10  # rock matrix compressibility ($1/Pa$)\n",
    "beta = 4.8e-10  # fluid compressibility ($1/Pa$)\n",
    "\n",
    "adv_scheme = \"UPSTREAM\"\n",
    "\n",
    "al = 0.1  # Longitudinal dispersivity ($m$)\n",
    "ath1 = 0.01  # Transverse dispersivity ($m$)\n",
    "kts = 3.0  # Zone 1 thermal conductivity ($\\frac{W}{m \\cdot ^{\\circ} C}$)\n",
    "ktw = 0.58  # Thermal conductivity of water ($\\frac{W}{m \\cdot ^{\\circ} C}$)\n",
    "\n",
    "Tsurf = 0.0\n",
    "Trech = 5.0\n",
    "\n",
    "denseslp = -0.375 # Density and temperature slope"
   ]
  },
  {
   "cell_type": "markdown",
   "id": "aea50120-63e8-494f-8f74-1e5a04e6889e",
   "metadata": {},
   "source": [
    "# Read the elevation data"
   ]
  },
  {
   "cell_type": "code",
   "execution_count": null,
   "id": "93d3fe72-996e-4c4c-bf9d-36709fdf4078",
   "metadata": {},
   "outputs": [],
   "source": [
    "fpath = pl.Path(\"../data/model_elevations.csv\")"
   ]
  },
  {
   "cell_type": "code",
   "execution_count": null,
   "id": "f759944d-2f0e-4f46-862d-5881bf7a472b",
   "metadata": {},
   "outputs": [],
   "source": [
    "elevation_data = np.genfromtxt(fpath, names=True, delimiter=\",\")"
   ]
  },
  {
   "cell_type": "code",
   "execution_count": null,
   "id": "b0a556c8-418c-4fc2-8926-642adb1d9274",
   "metadata": {},
   "outputs": [],
   "source": [
    "elevation_data.dtype.names"
   ]
  },
  {
   "cell_type": "markdown",
   "id": "08bb28d8-8413-4964-b626-d4f4e4f93091",
   "metadata": {},
   "source": [
    "# Define the problem dimensions"
   ]
  },
  {
   "cell_type": "code",
   "execution_count": null,
   "id": "3e09a7d3-eaa2-4074-a656-7a3e3e8fe1f6",
   "metadata": {},
   "outputs": [],
   "source": [
    "km2m = 1000.0\n",
    "len_x = 10000.0 * km2m\n",
    "len_z = 20.0 * km2m"
   ]
  },
  {
   "cell_type": "code",
   "execution_count": null,
   "id": "056f364f-4a3e-47c4-86cc-1a32d6dca0e8",
   "metadata": {},
   "outputs": [],
   "source": [
    "nlay = 20\n",
    "nrow = 1\n",
    "ncol = elevation_data[\"x\"].shape[0]\n",
    "nlay, nrow, ncol"
   ]
  },
  {
   "cell_type": "code",
   "execution_count": null,
   "id": "950ab1cc-fefd-4bd4-b38f-626be9bf8ae3",
   "metadata": {},
   "outputs": [],
   "source": [
    "delx, dely = len_x / ncol, 1.0\n",
    "delx, dely"
   ]
  },
  {
   "cell_type": "code",
   "execution_count": null,
   "id": "4399c9f9-b9bc-4ac7-88c2-1aabbc9cbb48",
   "metadata": {},
   "outputs": [],
   "source": [
    "sec2day = 86400.0\n",
    "years2days = 365.25\n",
    "sim_length_years = 2e8\n",
    "sim_length = sim_length_years * years2days\n",
    "step_length_years = sim_length_years / 100\n",
    "dtmax = step_length_years * years2days\n",
    "nstp = sim_length_years / step_length_years\n",
    "nper = 1\n",
    "tdis_data = [(sim_length, nstp, 1.0)]\n",
    "dtmax, tdis_data"
   ]
  },
  {
   "cell_type": "markdown",
   "id": "b8957567-4493-406a-92aa-0d29685ba659",
   "metadata": {},
   "source": [
    "# Solver settings"
   ]
  },
  {
   "cell_type": "code",
   "execution_count": null,
   "id": "7cd8b1c7-b9e5-4374-bebe-51d3c3fa44f9",
   "metadata": {},
   "outputs": [],
   "source": [
    "outer_maximum=500\n",
    "inner_maximum=200\n",
    "inner_dvclose=1e-6 \n",
    "outer_dvclose=1e-4"
   ]
  },
  {
   "cell_type": "markdown",
   "id": "45080531-6532-4686-b394-ed66f4289306",
   "metadata": {
    "execution": {
     "iopub.execute_input": "2024-12-03T20:11:48.457001Z",
     "iopub.status.busy": "2024-12-03T20:11:48.456528Z",
     "iopub.status.idle": "2024-12-03T20:11:48.462770Z",
     "shell.execute_reply": "2024-12-03T20:11:48.461222Z",
     "shell.execute_reply.started": "2024-12-03T20:11:48.456965Z"
    }
   },
   "source": [
    "# Scale the cell center and elevation data using problem dimensions"
   ]
  },
  {
   "cell_type": "code",
   "execution_count": null,
   "id": "5ac48c44-e7ea-4273-b1f1-1ed58277071b",
   "metadata": {},
   "outputs": [],
   "source": [
    "x = elevation_data[\"x\"] * len_x"
   ]
  },
  {
   "cell_type": "code",
   "execution_count": null,
   "id": "547128e5-ca90-4a58-94f5-cd5b1f02af06",
   "metadata": {},
   "outputs": [],
   "source": [
    "datum = 0.6 * len_z"
   ]
  },
  {
   "cell_type": "code",
   "execution_count": null,
   "id": "c522a6e8-683c-4255-8499-7b5eabef42aa",
   "metadata": {},
   "outputs": [],
   "source": [
    "h0 = 0.415 * len_z - datum"
   ]
  },
  {
   "cell_type": "code",
   "execution_count": null,
   "id": "57b86ca3-11ee-46e2-b107-8a5edd3fe725",
   "metadata": {},
   "outputs": [],
   "source": [
    "top = elevation_data[\"top\"] * len_z - datum"
   ]
  },
  {
   "cell_type": "code",
   "execution_count": null,
   "id": "5e805184-71a5-48b4-ad26-2216f7e902f7",
   "metadata": {},
   "outputs": [],
   "source": [
    "bot = elevation_data[\"bottom\"] * len_z - datum"
   ]
  },
  {
   "cell_type": "code",
   "execution_count": null,
   "id": "e82c9a2b-7a0d-4fdd-a7dc-7f0cb0f00283",
   "metadata": {},
   "outputs": [],
   "source": [
    "cryo = elevation_data[\"cryosphere\"] * len_z - datum"
   ]
  },
  {
   "cell_type": "code",
   "execution_count": null,
   "id": "fe5ff0cc-2409-406e-bfaf-8d7458bf2517",
   "metadata": {},
   "outputs": [],
   "source": [
    "rech = elevation_data[\"recharge\"] * len_z - datum"
   ]
  },
  {
   "cell_type": "markdown",
   "id": "e2807f4c-f648-42f2-8727-be41e4f25bd5",
   "metadata": {},
   "source": [
    "# Calculate the bottom of each layer and the elevation of each node"
   ]
  },
  {
   "cell_type": "code",
   "execution_count": null,
   "id": "235876f4-44ae-44e6-9bb0-a9a437a83e25",
   "metadata": {},
   "outputs": [],
   "source": [
    "thickness = top - bot\n",
    "dz = thickness / nlay"
   ]
  },
  {
   "cell_type": "code",
   "execution_count": null,
   "id": "e927939d-d91f-40b2-9b0a-39253355d38b",
   "metadata": {},
   "outputs": [],
   "source": [
    "botm = [top - dz * (k + 1) for k in range(nlay)]"
   ]
  },
  {
   "cell_type": "code",
   "execution_count": null,
   "id": "4c7a5f4b-848c-4986-8858-4b98c24c727f",
   "metadata": {},
   "outputs": [],
   "source": [
    "znode = [top - b + dz / 2 for b in botm]"
   ]
  },
  {
   "cell_type": "markdown",
   "id": "b52ef9fb-7433-449c-ae29-cd3697bf317a",
   "metadata": {},
   "source": [
    "# Plot the model domain"
   ]
  },
  {
   "cell_type": "code",
   "execution_count": null,
   "id": "ba939628-de12-49cc-8197-c7c2ca2cdf9a",
   "metadata": {},
   "outputs": [],
   "source": [
    "with flopy.plot.styles.USGSPlot():\n",
    "    fig, ax = plt.subplots(\n",
    "        ncols=1,\n",
    "        nrows=1,\n",
    "        layout=\"constrained\",\n",
    "        figsize=(8, 3),\n",
    "        )\n",
    "    ax.set_xlim(0, len_x)\n",
    "    ax.set_ylim(-13000, 9000)\n",
    "    ax.plot(x, top, color=\"red\", lw=3., label=\"Specified temperature\")\n",
    "    ax.plot(x, rech, color=\"blue\", lw=3., label=\"Recharge\")\n",
    "    ax.fill_between(x, top, y2=cryo, color=\"green\", label=\"Cryosphere\")\n",
    "    ax.fill_between(x, bot, y2=h0, color=\"cyan\", label=\"Initial head\")\n",
    "    for b in botm[:-1]:\n",
    "        ax.plot(x, b, color=\"black\", lw=0.75, label=None)\n",
    "    ax.axhline(0, color=\"black\", ls=\"--\", label=None)\n",
    "    ax.plot(-100, 0, color=\"black\", lw=0.75, label=\"Model layers\")\n",
    "    ax.plot(x, bot, color=\"orange\", lw=3, label=\"Geothermal gradient\")\n",
    "    ax.set_xlabel(\"x-coordinate, m\")\n",
    "    ax.set_ylabel(\"Relative elevation, m\")\n",
    "    flopy.plot.styles.graph_legend(ax=ax, ncol=2, title=\"\", loc=\"lower left\", labelspacing=0.15)\n",
    "    \n",
    "    fig.savefig(fig_path / f\"conceptual_model.png\", dpi=300, transparent=True)\n",
    "    "
   ]
  },
  {
   "cell_type": "markdown",
   "id": "59a43e51-8f8f-4f3b-8d47-679a92860981",
   "metadata": {},
   "source": [
    "# Calculate the depth-dependent permeability, porosity, and specific storage"
   ]
  },
  {
   "cell_type": "code",
   "execution_count": null,
   "id": "ddaa8c8d-c71c-4c64-ac81-73f8799be231",
   "metadata": {},
   "outputs": [],
   "source": [
    "10**(-12.65 - 3.2 * np.log10(1))"
   ]
  },
  {
   "cell_type": "code",
   "execution_count": null,
   "id": "97478fcc-3a6f-404c-9b7f-517279135598",
   "metadata": {},
   "outputs": [],
   "source": [
    "logk = np.array([-12.65 - 3.2 * np.log10(z / km2m) for z in znode]).reshape(nlay, nrow, ncol)"
   ]
  },
  {
   "cell_type": "code",
   "execution_count": null,
   "id": "f82a5b6f-8997-4337-b8d3-9eb8de1741e3",
   "metadata": {},
   "outputs": [],
   "source": [
    "10**logk.min(), 10**logk.mean(), 10**logk.max()"
   ]
  },
  {
   "cell_type": "code",
   "execution_count": null,
   "id": "febcd48c-4243-4778-8edd-a9796f078262",
   "metadata": {},
   "outputs": [],
   "source": [
    "K = 86400.0 * rhow * gravity * 10**logk / 1e-3 # m/d"
   ]
  },
  {
   "cell_type": "code",
   "execution_count": null,
   "id": "eecc942b-2002-4016-b556-2046222294d7",
   "metadata": {},
   "outputs": [],
   "source": [
    "logn = np.array([-1.65 - 0.8 * np.log10(z / km2m) for z in znode]).reshape(nlay, nrow, ncol)"
   ]
  },
  {
   "cell_type": "code",
   "execution_count": null,
   "id": "eacbca64-eba7-41ab-b751-755a068f9ae9",
   "metadata": {},
   "outputs": [],
   "source": [
    "10**logn.mean()"
   ]
  },
  {
   "cell_type": "code",
   "execution_count": null,
   "id": "ff24d241-7411-4183-9c9c-d5d128ad9870",
   "metadata": {},
   "outputs": [],
   "source": [
    "porosity = 10**logn"
   ]
  },
  {
   "cell_type": "code",
   "execution_count": null,
   "id": "2e89cf42-cbfd-4ff2-9998-f55555310031",
   "metadata": {},
   "outputs": [],
   "source": [
    "ss = rhow * gravity * (alpha + porosity * beta)\n",
    "ss.min(), ss.mean(), ss.max()"
   ]
  },
  {
   "cell_type": "markdown",
   "id": "7a9e5c33-a387-43b7-a159-aef21b11424c",
   "metadata": {},
   "source": [
    "# Create the base model"
   ]
  },
  {
   "cell_type": "code",
   "execution_count": null,
   "id": "ad27b8bb-546a-4ac8-94e4-90ddb9c03001",
   "metadata": {},
   "outputs": [],
   "source": [
    "ws = pl.Path(\"../run/\")\n",
    "name = \"mars\""
   ]
  },
  {
   "cell_type": "code",
   "execution_count": null,
   "id": "7b5ea2dc-2105-47f1-8599-b8d0192ad60f",
   "metadata": {},
   "outputs": [],
   "source": [
    "gwf_name = f\"{name}_gwf\"\n",
    "gwe_name = f\"{name}_gwe\""
   ]
  },
  {
   "cell_type": "code",
   "execution_count": null,
   "id": "2229ce34-766c-426d-b44b-55c010d7a9ac",
   "metadata": {},
   "outputs": [],
   "source": [
    "sim = flopy.mf6.MFSimulation(sim_name=name, sim_ws=ws)"
   ]
  },
  {
   "cell_type": "code",
   "execution_count": null,
   "id": "cb3be426-f1c3-49ac-bd44-972d1ef398b4",
   "metadata": {},
   "outputs": [],
   "source": [
    "tdis = flopy.mf6.ModflowTdis(sim, nper=nper, perioddata=tdis_data)"
   ]
  },
  {
   "cell_type": "code",
   "execution_count": null,
   "id": "295d4515-d561-4f46-b64b-1a0a685b995c",
   "metadata": {},
   "outputs": [],
   "source": [
    "dtmin = 1. * years2days\n",
    "dt = dtmax"
   ]
  },
  {
   "cell_type": "code",
   "execution_count": null,
   "id": "46bfa1b7-49f0-4652-bf9d-5909aa104342",
   "metadata": {},
   "outputs": [],
   "source": [
    "# atsperiod = [\n",
    "#     (iper, dtmin, dtmax, dt, 2.0, 5.0) for iper in range(nper)\n",
    "# ]\n",
    "# tdis.ats.initialize(\n",
    "#     maxats=len(atsperiod),\n",
    "#     perioddata=atsperiod,\n",
    "#     filename=f\"{name}.ats\",\n",
    "# )"
   ]
  },
  {
   "cell_type": "code",
   "execution_count": null,
   "id": "42ecbf5a-7190-4e72-ae22-766000719a82",
   "metadata": {},
   "outputs": [],
   "source": [
    "imsgwf = flopy.mf6.ModflowIms(\n",
    "    sim, \n",
    "    complexity=\"simple\", \n",
    "    linear_acceleration=\"bicgstab\", \n",
    "    inner_dvclose=inner_dvclose, \n",
    "    outer_dvclose=outer_dvclose,\n",
    "    outer_maximum=outer_maximum,\n",
    "    inner_maximum=inner_maximum,\n",
    "    print_option=\"SUMMARY\",\n",
    "    filename=f\"{gwf_name}.ims\"\n",
    ")"
   ]
  },
  {
   "cell_type": "markdown",
   "id": "8fd46708-0ebb-43e9-bef5-ec3d8ce442df",
   "metadata": {},
   "source": [
    "## GWF model"
   ]
  },
  {
   "cell_type": "code",
   "execution_count": null,
   "id": "4d53327c-f160-479f-a09b-9274804e82d7",
   "metadata": {},
   "outputs": [],
   "source": [
    "gwf = flopy.mf6.ModflowGwf(sim, modelname=gwf_name, newtonoptions=\"under_relaxation\")"
   ]
  },
  {
   "cell_type": "code",
   "execution_count": null,
   "id": "ea3bbc94-7351-471f-8096-dde9e32d3fb8",
   "metadata": {},
   "outputs": [],
   "source": [
    "dis = flopy.mf6.ModflowGwfdis(gwf, delr=delx, delc=dely, nlay=nlay, nrow=nrow, ncol=ncol, top=top, botm=botm, filename=f\"{gwf_name}.dis\")"
   ]
  },
  {
   "cell_type": "markdown",
   "id": "a8023a23-5191-4eee-a387-ae7ec5041518",
   "metadata": {},
   "source": [
    "### Plot hydraulic properties using the gwf model"
   ]
  },
  {
   "cell_type": "code",
   "execution_count": null,
   "id": "c779cd4c-e15a-4dd9-a2d5-748c30d5d4cb",
   "metadata": {},
   "outputs": [],
   "source": [
    "extent = (0, len_x, -13000, 9000)"
   ]
  },
  {
   "cell_type": "code",
   "execution_count": null,
   "id": "3f47f031-2216-4597-a09a-fabed9b5088e",
   "metadata": {},
   "outputs": [],
   "source": [
    "with flopy.plot.styles.USGSPlot():\n",
    "    fig, axs = plt.subplots(\n",
    "        ncols=1,\n",
    "        nrows=2,\n",
    "        layout=\"constrained\",\n",
    "        figsize=(8, 6),\n",
    "        sharex=True,\n",
    "        )\n",
    "    ax = axs[0]\n",
    "    xs = flopy.plot.PlotCrossSection(model=gwf, ax=ax, line={\"row\": 0}, extent=extent)\n",
    "    pk = xs.plot_array(logk)\n",
    "    ax.plot(x, top, color=\"red\", lw=3., label=\"Specified temperature\")\n",
    "    ax.plot(x, rech, color=\"blue\", lw=3., label=\"Recharge\")\n",
    "    ax.plot(x, bot, color=\"orange\", lw=3, label=\"Geothermal gradient\")\n",
    "    ax.axhline(0, color=\"black\", ls=\"--\", label=None)\n",
    "    ax.set_ylabel(\"Relative elevation, m\")\n",
    "    cax = ax.inset_axes([0.15, 0.2, 0.3, 0.04])\n",
    "    cbar = fig.colorbar(pk, cax=cax, orientation='horizontal')\n",
    "    cbar.set_label(r\"$\\text{log} k\\text{, m}^2$\")\n",
    "    flopy.plot.styles.add_text(ax=ax, x=0.01, y=0.05, ha=\"left\", va=\"bottom\", text=r\"$\\text{log} k = -12.65 - 3.2 \\text{log} z$\", bold=False, italic=False)\n",
    "    flopy.plot.styles.graph_legend(ax=ax, ncol=1, title=\"\", loc=\"upper right\", labelspacing=0.15)\n",
    "    \n",
    "    ax = axs[1]\n",
    "    xs1 = flopy.plot.PlotCrossSection(model=gwf, ax=ax, line={\"row\": 0}, extent=extent)\n",
    "    pn = xs1.plot_array(logn)\n",
    "    ax.plot(x, top, color=\"red\", lw=3., label=\"Specified temperature\")\n",
    "    ax.plot(x, rech, color=\"blue\", lw=3., label=\"Recharge\")\n",
    "    ax.plot(x, bot, color=\"orange\", lw=3, label=\"Geothermal gradient\")\n",
    "    ax.axhline(0, color=\"black\", ls=\"--\", label=None)\n",
    "    ax.set_ylabel(\"Relative elevation, m\")\n",
    "    ax.set_xlabel(\"x-coordinate, m\")\n",
    "    cax = ax.inset_axes([0.15, 0.2, 0.3, 0.04])\n",
    "    cbar = fig.colorbar(pn, cax=cax, orientation='horizontal')\n",
    "    cbar.set_label(r\"$\\text{log} \\theta\\text{, unitless}$\")\n",
    "    flopy.plot.styles.add_text(ax=ax, x=0.01, y=0.05, ha=\"left\", va=\"bottom\", text=r\"$\\text{log} \\theta = -1.65 - 0.8 \\text{log} z$\", bold=False, italic=False)\n",
    "\n",
    "    fig.savefig(fig_path / f\"model_hydraulic.png\", dpi=300, transparent=True)\n",
    "    "
   ]
  },
  {
   "cell_type": "markdown",
   "id": "504e9143-4f4e-4971-a842-22bfaea0d4ce",
   "metadata": {},
   "source": [
    "### Build the rest of the flow model"
   ]
  },
  {
   "cell_type": "code",
   "execution_count": null,
   "id": "6b62c0b7-2dea-4e9f-9755-6ead94b04fc0",
   "metadata": {},
   "outputs": [],
   "source": [
    "npf = flopy.mf6.ModflowGwfnpf(gwf, k=K, icelltype=1, filename=f\"{gwf_name}.npf\")"
   ]
  },
  {
   "cell_type": "code",
   "execution_count": null,
   "id": "79746e1e-84c4-4ebe-b462-d950ce788d06",
   "metadata": {},
   "outputs": [],
   "source": [
    "sto = flopy.mf6.ModflowGwfsto(gwf, sy=porosity, ss=ss, transient={0: True}, iconvert=1, filename=f\"{gwf_name}.sto\")"
   ]
  },
  {
   "cell_type": "code",
   "execution_count": null,
   "id": "098fb58c-8f00-4ce0-bcf5-ae3bf355778a",
   "metadata": {},
   "outputs": [],
   "source": [
    "# buy = flopy.mf6.ModflowGwfbuy(gwf, denseref=rhow, packagedata=[(0, denseslp, 0.0, gwe_name, \"temperature\")])"
   ]
  },
  {
   "cell_type": "code",
   "execution_count": null,
   "id": "a9d2c8d1-e113-432c-b50e-20349c50c334",
   "metadata": {},
   "outputs": [],
   "source": [
    "ic = flopy.mf6.ModflowGwfic(gwf, strt=h0, filename=f\"{gwf_name}.ic\")"
   ]
  },
  {
   "cell_type": "code",
   "execution_count": null,
   "id": "69b4cd93-d095-4dd2-8d70-12fbe8bef440",
   "metadata": {},
   "outputs": [],
   "source": [
    "rch_rate = 2e-10 * years2days\n",
    "rch_spd = []\n",
    "for idx, r in enumerate(rech):\n",
    "    if not np.isnan(r):\n",
    "        rch_spd.append((0, 0, idx, rch_rate, Trech))"
   ]
  },
  {
   "cell_type": "code",
   "execution_count": null,
   "id": "6f29f464-2c4a-422c-b59c-92aa948ff6ce",
   "metadata": {},
   "outputs": [],
   "source": [
    "rch = flopy.mf6.ModflowGwfrch(gwf, auxiliary=\"TEMPERATURE\", stress_period_data=rch_spd, pname=\"RCH\", filename=f\"{gwf_name}.rch\")"
   ]
  },
  {
   "cell_type": "code",
   "execution_count": null,
   "id": "3f2561d3-18d3-4770-9043-f0f2fde8c8e7",
   "metadata": {},
   "outputs": [],
   "source": [
    "drn_spd = []\n",
    "for idx, t in enumerate(top):\n",
    "    if t < 0.0:\n",
    "        cond = K[0, 0, idx] * delx * dely / znode[0][idx]\n",
    "        drn_spd.append((0, 0, idx, float(t), float(cond)))\n",
    "        "
   ]
  },
  {
   "cell_type": "code",
   "execution_count": null,
   "id": "57534ab3-1204-4f1b-8190-c8e45c30b669",
   "metadata": {},
   "outputs": [],
   "source": [
    "drn = flopy.mf6.ModflowGwfdrn(gwf, stress_period_data=drn_spd, pname=\"DRN\", filename=f\"{gwf_name}.drn\")"
   ]
  },
  {
   "cell_type": "code",
   "execution_count": null,
   "id": "7dbd28fb-c4eb-4794-9133-43260ceebdf0",
   "metadata": {},
   "outputs": [],
   "source": [
    "ocgwf = flopy.mf6.ModflowGwfoc(\n",
    "    gwf, \n",
    "    head_filerecord=f\"{gwf_name}.hds\", \n",
    "    saverecord=[(\"HEAD\", \"FREQUENCY\", \"1\"), (\"HEAD\", \"LAST\")], \n",
    "    printrecord=[(\"BUDGET\", \"FREQUENCY\", \"10\")], \n",
    "    filename=f\"{gwf_name}.oc\"\n",
    ")"
   ]
  },
  {
   "cell_type": "markdown",
   "id": "cd84c460-fce6-488f-9550-3669cfd93881",
   "metadata": {},
   "source": [
    "## GWE model"
   ]
  },
  {
   "cell_type": "code",
   "execution_count": null,
   "id": "21072b27-55c8-499d-ad7d-808272f9f2c4",
   "metadata": {},
   "outputs": [],
   "source": [
    "gwe = flopy.mf6.ModflowGwe(sim, modelname=gwe_name)"
   ]
  },
  {
   "cell_type": "code",
   "execution_count": null,
   "id": "1f38878c-b678-4144-8946-ab9782bce45b",
   "metadata": {},
   "outputs": [],
   "source": [
    "disgwe = flopy.mf6.ModflowGwedis(gwe, delr=delx, delc=dely, nlay=nlay, nrow=nrow, ncol=ncol, top=top, botm=botm, filename=f\"{gwe_name}.dis\")"
   ]
  },
  {
   "cell_type": "code",
   "execution_count": null,
   "id": "54365509-9080-4f12-8970-8a20f9faa7c5",
   "metadata": {},
   "outputs": [],
   "source": [
    "T0 = np.zeros((nlay, nrow, ncol), dtype=float)\n",
    "for k, arr in enumerate(botm):\n",
    "    for idx, zb in enumerate(arr):\n",
    "        z = zb + dz[idx] / 2.0\n",
    "        dwt = cryo[idx] - h0\n",
    "        dtdwt = 5.0 / dwt\n",
    "        if z > cryo[idx]:\n",
    "            temp = 0.0\n",
    "        elif z < h0:\n",
    "            temp = 5.0\n",
    "        else:\n",
    "            temp = (cryo[idx] - z) * dtdwt\n",
    "        T0[k, 0, idx] = temp"
   ]
  },
  {
   "cell_type": "code",
   "execution_count": null,
   "id": "c7770586-e00a-4b42-98c7-f36f9d5dd07b",
   "metadata": {},
   "outputs": [],
   "source": [
    "with flopy.plot.styles.USGSPlot():\n",
    "    fig, ax = plt.subplots(\n",
    "        ncols=1,\n",
    "        nrows=1,\n",
    "        layout=\"constrained\",\n",
    "        figsize=(8, 3),\n",
    "        sharex=True,\n",
    "        )\n",
    "    xs = flopy.plot.PlotCrossSection(model=gwf, ax=ax, line={\"row\": 0}, extent=extent)\n",
    "    pk = xs.plot_array(T0)\n",
    "    ax.plot(x, top, color=\"red\", lw=3., label=\"Specified temperature\")\n",
    "    ax.plot(x, rech, color=\"blue\", lw=3., label=\"Recharge\")\n",
    "    ax.plot(x, bot, color=\"orange\", lw=3, label=\"Geothermal gradient\")\n",
    "    ax.axhline(0, color=\"black\", ls=\"--\", label=None)\n",
    "    ax.set_ylabel(\"Relative elevation, m\")\n",
    "    cax = ax.inset_axes([0.15, 0.2, 0.3, 0.04])\n",
    "    cbar = fig.colorbar(pk, cax=cax, orientation='horizontal')\n",
    "    cbar.set_label(r\"Initial relative temperature ${\\circ}K$\")\n",
    "    flopy.plot.styles.graph_legend(ax=ax, ncol=1, title=\"\", loc=\"upper right\", labelspacing=0.15)\n",
    "\n",
    "    fig.savefig(fig_path / f\"model_initial_temperature.png\", dpi=300, transparent=True)"
   ]
  },
  {
   "cell_type": "code",
   "execution_count": null,
   "id": "88de6e2d-0b87-4dfc-8f2f-548ba36a76b5",
   "metadata": {},
   "outputs": [],
   "source": [
    "icgwe = flopy.mf6.ModflowGweic(gwe, strt=T0, pname=\"IC\", filename=f\"{gwe_name}.ic\")"
   ]
  },
  {
   "cell_type": "code",
   "execution_count": null,
   "id": "5cf9c8e9-fb09-4400-9d5f-53de2ef7319b",
   "metadata": {},
   "outputs": [],
   "source": [
    "advgwe = flopy.mf6.ModflowGweadv(gwe, scheme=adv_scheme, pname=\"ADV\", filename=f\"{gwe_name}.adv\")"
   ]
  },
  {
   "cell_type": "code",
   "execution_count": null,
   "id": "8d304bff-3f18-432e-96d8-fd889f0ff79c",
   "metadata": {},
   "outputs": [],
   "source": [
    "gweest = flopy.mf6.ModflowGweest(\n",
    "    gwe,\n",
    "    porosity=porosity,\n",
    "    heat_capacity_water=cpw,\n",
    "    density_water=rhow,\n",
    "    latent_heat_vaporization=lhv,\n",
    "    heat_capacity_solid=cps,\n",
    "    density_solid=rhos,\n",
    "    pname=\"EST\",\n",
    "    filename=f\"{gwe_name}.est\",\n",
    "    )"
   ]
  },
  {
   "cell_type": "code",
   "execution_count": null,
   "id": "ab0a2f30-0e64-4edf-a06b-68e7e6a1240a",
   "metadata": {},
   "outputs": [],
   "source": [
    "cnd = flopy.mf6.ModflowGwecnd(\n",
    "    gwe,\n",
    "    xt3d_off=True,\n",
    "    alh=al,\n",
    "    ath1=ath1,\n",
    "    ktw=ktw,\n",
    "    kts=kts,\n",
    "    pname=\"CND\",\n",
    "    filename=f\"{gwe_name}.cnd\",\n",
    "    )"
   ]
  },
  {
   "cell_type": "code",
   "execution_count": null,
   "id": "201edbda-15cf-41ce-93bd-61951a780813",
   "metadata": {},
   "outputs": [],
   "source": [
    "sourcerecarray = [\n",
    "    (\"RCH\", \"AUX\", \"TEMPERATURE\"),\n",
    "    ]\n",
    "ssm = flopy.mf6.ModflowGwessm(\n",
    "    gwe, sources=sourcerecarray, pname=\"SSM\", filename=f\"{gwe_name}.ssm\"\n",
    "    )"
   ]
  },
  {
   "cell_type": "code",
   "execution_count": null,
   "id": "9cd34f8c-944d-4e94-8841-ad557a95b1ee",
   "metadata": {},
   "outputs": [],
   "source": [
    "geothermal_gradient = 0.030 # geothermal gradient ($W/m^2$)\n",
    "esrc = [(nlay - 1, 0, idx, geothermal_gradient * sec2day) for idx in range(ncol)]"
   ]
  },
  {
   "cell_type": "code",
   "execution_count": null,
   "id": "f2870e67-b489-4861-9e77-a885e62ccd1e",
   "metadata": {},
   "outputs": [],
   "source": [
    "esl = flopy.mf6.ModflowGweesl(\n",
    "    gwe,\n",
    "    maxbound=len(esrc),\n",
    "    stress_period_data=esrc,\n",
    "    pname=\"ESL\",\n",
    "    filename=f\"{gwe_name}.esl\",\n",
    "    )"
   ]
  },
  {
   "cell_type": "code",
   "execution_count": null,
   "id": "cdb3e5b8-c8f1-4c3b-89da-2d6d6ce1d9a1",
   "metadata": {},
   "outputs": [],
   "source": [
    "ctp = []\n",
    "for idx, r in enumerate(rech):\n",
    "    if np.isnan(r):\n",
    "        ctp.append((0, 0, idx, Tsurf))\n",
    "    else:\n",
    "        ctp.append((0, 0, idx, Trech))\n",
    "        "
   ]
  },
  {
   "cell_type": "code",
   "execution_count": null,
   "id": "ea0701f8-18ba-41ce-8b3e-cfa9cdf5ec70",
   "metadata": {},
   "outputs": [],
   "source": [
    "ctp = flopy.mf6.ModflowGwectp(\n",
    "    gwe,\n",
    "    maxbound=len(ctp),\n",
    "    stress_period_data=ctp,\n",
    "    pname=\"CTP\",\n",
    "    filename=f\"{gwe_name}.ctp\",\n",
    ")"
   ]
  },
  {
   "cell_type": "code",
   "execution_count": null,
   "id": "eb8224bf-5700-49d3-a4f2-29ed5f2a3ca6",
   "metadata": {},
   "outputs": [],
   "source": [
    "ocgwe = flopy.mf6.ModflowGweoc(\n",
    "    gwe,\n",
    "    temperature_filerecord=f\"{gwe_name}.bin\", \n",
    "    saverecord=[(\"TEMPERATURE\", \"FREQUENCY\", \"1\"), (\"TEMPERATURE\", \"LAST\")], \n",
    "    printrecord=[(\"BUDGET\", \"FREQUENCY\", \"10\")], \n",
    "    filename=f\"{gwe_name}.oc\"\n",
    ")"
   ]
  },
  {
   "cell_type": "code",
   "execution_count": null,
   "id": "344a312c-fbd4-4bde-a224-93c4affc143d",
   "metadata": {},
   "outputs": [],
   "source": [
    "imsgwe = flopy.mf6.ModflowIms(\n",
    "    sim, \n",
    "    complexity=\"simple\", \n",
    "    linear_acceleration=\"bicgstab\", \n",
    "    inner_dvclose=inner_dvclose, \n",
    "    outer_dvclose=outer_dvclose,\n",
    "    outer_maximum=outer_maximum,\n",
    "    inner_maximum=inner_maximum,\n",
    "    print_option=\"SUMMARY\",\n",
    "    filename=f\"{gwe_name}.ims\"\n",
    ")"
   ]
  },
  {
   "cell_type": "code",
   "execution_count": null,
   "id": "d297d406-def5-4e2b-b5ea-05557578d9d2",
   "metadata": {},
   "outputs": [],
   "source": [
    "sim.register_ims_package(imsgwe, [gwe_name])"
   ]
  },
  {
   "cell_type": "code",
   "execution_count": null,
   "id": "91b9cd0f-17ff-4f00-a1c7-dac41ec019e1",
   "metadata": {},
   "outputs": [],
   "source": [
    "    # GWF GWE exchange\n",
    "gwfgwe = flopy.mf6.ModflowGwfgwe(\n",
    "    sim,\n",
    "    exgtype=\"GWF6-GWE6\",\n",
    "    exgmnamea=gwf_name,\n",
    "    exgmnameb=gwe_name,\n",
    "    filename=f\"{name}.gwfgwe\",\n",
    "    )"
   ]
  },
  {
   "cell_type": "markdown",
   "id": "b96fb461-e3fa-4ea9-af08-f7c0447edb4f",
   "metadata": {},
   "source": [
    "# Write model datasets and run the model"
   ]
  },
  {
   "cell_type": "code",
   "execution_count": null,
   "id": "fc2edfbf-1106-4272-9045-f253304049e6",
   "metadata": {},
   "outputs": [],
   "source": [
    "sim.write_simulation()"
   ]
  },
  {
   "cell_type": "code",
   "execution_count": null,
   "id": "8b84128e-3681-4eea-8d7f-b444da7f77b2",
   "metadata": {},
   "outputs": [],
   "source": [
    "success, buff = sim.run_simulation(silent=False, custom_print=custom_print)\n",
    "print(f\"\\n{success}\")"
   ]
  },
  {
   "cell_type": "markdown",
   "id": "679db09b-dfab-4629-9bdd-c9e71c404b2c",
   "metadata": {},
   "source": [
    "# Animate results"
   ]
  },
  {
   "cell_type": "code",
   "execution_count": null,
   "id": "0d1b8452-8727-4bb6-9f0e-dbc0024ec584",
   "metadata": {},
   "outputs": [],
   "source": [
    "ani_ext = \".mp4\"\n",
    "Writer = mpl.animation.writers[\"ffmpeg\"]\n",
    "writer = Writer(fps=4, metadata=dict(artist=\"jdhughes\"), bitrate=2056)"
   ]
  },
  {
   "cell_type": "code",
   "execution_count": null,
   "id": "1d81abda-b783-4486-ba54-5d7531f60cd2",
   "metadata": {},
   "outputs": [],
   "source": [
    "output_times = gwf.output.head().get_times()\n",
    "ntimes = len(output_times)\n",
    "frames = np.arange(1, ntimes, dtype=int)\n",
    "ntimes"
   ]
  },
  {
   "cell_type": "code",
   "execution_count": null,
   "id": "634bb7f7-c1ac-45c7-9ba4-2e3ebbaa4491",
   "metadata": {},
   "outputs": [],
   "source": [
    "hmin, hmax = 1e20, -1e20\n",
    "for totim in output_times:\n",
    "    head = gwf.output.head().get_data(totim=totim)\n",
    "    hmin = min(hmin, head[head <= 1e20].min())\n",
    "    hmax = max(hmax, head[head <= 1e20].max())    \n",
    "hmin, hmax"
   ]
  },
  {
   "cell_type": "code",
   "execution_count": null,
   "id": "a45157b9-d608-4c0c-b2ef-ec2b480443e8",
   "metadata": {},
   "outputs": [],
   "source": [
    "tmin, tmax = 1e20, -1e20\n",
    "for totim in output_times:\n",
    "    temp = gwe.output.temperature().get_data(totim=totim)\n",
    "    tmin = min(tmin, temp[temp <= 1e20].min())\n",
    "    tmax = max(tmax, temp[temp <= 1e20].max())    \n",
    "tmin, tmax"
   ]
  },
  {
   "cell_type": "code",
   "execution_count": null,
   "id": "1eba30b0-349c-4c4d-95ae-78b0607c750b",
   "metadata": {},
   "outputs": [],
   "source": [
    "with flopy.plot.styles.USGSPlot():\n",
    "    fig, ax = plt.subplots(\n",
    "        ncols=1,\n",
    "        nrows=1,\n",
    "        layout=\"constrained\",\n",
    "        figsize=(8, 3),\n",
    "        )\n",
    "    \n",
    "    totim = output_times[0]\n",
    "    toyears = int(totim / years2days)\n",
    "    title_str = f\"{toyears:>,} years\"\n",
    "    \n",
    "    head = gwf.output.head().get_data(totim=totim)\n",
    "    \n",
    "    xs = flopy.plot.PlotCrossSection(model=gwf, ax=ax, line={\"row\": 0}, extent=extent)\n",
    "    pk = xs.plot_array(head, head=head, vmin=hmin, vmax=hmax)\n",
    "    ax.plot(x, top, color=\"red\", lw=3., label=\"Specified temperature\")\n",
    "    ax.plot(x, rech, color=\"blue\", lw=3., label=\"Recharge\")\n",
    "    ax.plot(x, bot, color=\"orange\", lw=3, label=\"Geothermal gradient\")\n",
    "    ax.axhline(0, color=\"black\", ls=\"--\", label=None)\n",
    "\n",
    "    sim_text = flopy.plot.styles.add_text(ax=ax, text=title_str, x=0.995, y=0.03, ha=\"right\", va=\"bottom\")\n",
    "    \n",
    "    ax.set_ylabel(\"Relative elevation, m\")\n",
    "    cax = ax.inset_axes([0.15, 0.2, 0.3, 0.04])\n",
    "    cbar = fig.colorbar(pk, cax=cax, orientation='horizontal')\n",
    "    cbar.set_label(\"Head, m\")\n",
    "    flopy.plot.styles.graph_legend(ax=ax, ncol=1, title=\"\", loc=\"upper right\", labelspacing=0.15)\n",
    "\n",
    "    def func(idx):\n",
    "        global pk\n",
    "        totim = output_times[idx]\n",
    "        toyears = int(totim / years2days)\n",
    "        title_str = f\"{toyears:>,} years\"\n",
    "\n",
    "        sim_text.set_text(title_str)\n",
    "        \n",
    "        head = gwf.output.head().get_data(totim=totim)\n",
    "\n",
    "        pk.remove()\n",
    "        pk = xs.plot_array(head, head=head, vmin=hmin, vmax=hmax)\n",
    "\n",
    "        return pk\n",
    "\n",
    "    ani = FuncAnimation(fig, func, frames=frames, blit=False)\n",
    "    #HTML(ani.to_jshtml())    \n",
    "    ani.save(ani_path / f\"head_results_gwf{ani_ext}\", writer=writer)"
   ]
  },
  {
   "cell_type": "code",
   "execution_count": null,
   "id": "e7676a1d-f844-4dbc-be41-0dd5b904f29d",
   "metadata": {},
   "outputs": [],
   "source": [
    "with flopy.plot.styles.USGSPlot():\n",
    "    fig, ax = plt.subplots(\n",
    "        ncols=1,\n",
    "        nrows=1,\n",
    "        layout=\"constrained\",\n",
    "        figsize=(8, 3),\n",
    "        )\n",
    "    \n",
    "    totim = output_times[0]\n",
    "    toyears = int(totim / years2days)\n",
    "    title_str = f\"{toyears:>,} years\"\n",
    "    \n",
    "    temp = gwf.output.temperature().get_data(totim=totim)\n",
    "    \n",
    "    xs = flopy.plot.PlotCrossSection(model=gwf, ax=ax, line={\"row\": 0}, extent=extent)\n",
    "    pk = xs.plot_array(temp, vmin=tmin, vmax=tmax)\n",
    "    ax.plot(x, top, color=\"red\", lw=3., label=\"Specified temperature\")\n",
    "    ax.plot(x, rech, color=\"blue\", lw=3., label=\"Recharge\")\n",
    "    ax.plot(x, bot, color=\"orange\", lw=3, label=\"Geothermal gradient\")\n",
    "    ax.axhline(0, color=\"black\", ls=\"--\", label=None)\n",
    "\n",
    "    sim_text = flopy.plot.styles.add_text(ax=ax, text=title_str, x=0.995, y=0.03, ha=\"right\", va=\"bottom\")\n",
    "    \n",
    "    ax.set_ylabel(\"Relative elevation, m\")\n",
    "    cax = ax.inset_axes([0.15, 0.2, 0.3, 0.04])\n",
    "    cbar = fig.colorbar(pk, cax=cax, orientation='horizontal')\n",
    "    cbar.set_label(r\"Relative temperature, $^{\\circ}K$\")\n",
    "    flopy.plot.styles.graph_legend(ax=ax, ncol=1, title=\"\", loc=\"upper right\", labelspacing=0.15)\n",
    "\n",
    "    def func(idx):\n",
    "        global pk, sim_text\n",
    "        totim = output_times[idx]\n",
    "        toyears = int(totim / years2days)\n",
    "        title_str = f\"{toyears:>,} years\"\n",
    "\n",
    "        sim_text.set_text(title_str)\n",
    "        \n",
    "        temp = gwf.output.temperature().get_data(totim=totim)\n",
    "\n",
    "        pk.remove()\n",
    "        pk = xs.plot_array(temp, vmin=tmin, vmax=tmax)\n",
    "\n",
    "        return pk, sim_text\n",
    "\n",
    "    ani = FuncAnimation(fig, func, frames=frames, blit=False)\n",
    "    #HTML(ani.to_jshtml())    \n",
    "    ani.save(ani_path / f\"temperature_results_gwe{ani_ext}\", writer=writer)"
   ]
  },
  {
   "cell_type": "code",
   "execution_count": null,
   "id": "96965b19-59d5-414b-ac8d-457d5fd5bc8d",
   "metadata": {},
   "outputs": [],
   "source": []
  }
 ],
 "metadata": {
  "kernelspec": {
   "display_name": "Python 3 (ipykernel)",
   "language": "python",
   "name": "python3"
  },
  "language_info": {
   "codemirror_mode": {
    "name": "ipython",
    "version": 3
   },
   "file_extension": ".py",
   "mimetype": "text/x-python",
   "name": "python",
   "nbconvert_exporter": "python",
   "pygments_lexer": "ipython3",
   "version": "3.10.14"
  }
 },
 "nbformat": 4,
 "nbformat_minor": 5
}

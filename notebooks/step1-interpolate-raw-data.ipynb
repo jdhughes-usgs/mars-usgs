{
 "cells": [
  {
   "cell_type": "code",
   "execution_count": null,
   "id": "eaf3cebc-5119-4d62-8c88-6ad515a73196",
   "metadata": {},
   "outputs": [],
   "source": [
    "import matplotlib.pyplot as plt\n",
    "import numpy as np\n",
    "import pathlib as pl"
   ]
  },
  {
   "cell_type": "code",
   "execution_count": null,
   "id": "26bc3c51-5dd9-455f-9f79-03596a630385",
   "metadata": {},
   "outputs": [],
   "source": [
    "fpath = pl.Path(\"../data/top.txt\")"
   ]
  },
  {
   "cell_type": "code",
   "execution_count": null,
   "id": "0dc28406-b9a9-4844-a95d-26fcd9873bc4",
   "metadata": {},
   "outputs": [],
   "source": [
    "top_d = np.genfromtxt(fpath, dtype=[(\"x\", float), (\"y\", float)])"
   ]
  },
  {
   "cell_type": "code",
   "execution_count": null,
   "id": "ab021ea9-2003-4e1c-ae7e-72bd217f1cab",
   "metadata": {},
   "outputs": [],
   "source": [
    "fpath = pl.Path(\"../data/bottom.txt\")"
   ]
  },
  {
   "cell_type": "code",
   "execution_count": null,
   "id": "dfe0241d-f401-4e96-af03-b5111417ee88",
   "metadata": {},
   "outputs": [],
   "source": [
    "bot_d = np.genfromtxt(fpath, dtype=[(\"x\", float), (\"y\", float)])"
   ]
  },
  {
   "cell_type": "code",
   "execution_count": null,
   "id": "8404a85d-9d4f-4ba5-a238-026e6abd5208",
   "metadata": {},
   "outputs": [],
   "source": [
    "fpath = pl.Path(\"../data/cryo.txt\")"
   ]
  },
  {
   "cell_type": "code",
   "execution_count": null,
   "id": "0ec3b43a-f4c1-4d85-a818-8797565a478c",
   "metadata": {},
   "outputs": [],
   "source": [
    "cryo_d = np.genfromtxt(fpath, dtype=[(\"x\", float), (\"y\", float)])"
   ]
  },
  {
   "cell_type": "code",
   "execution_count": null,
   "id": "6de90d3e-be6d-44bf-99fc-041a03d8e233",
   "metadata": {},
   "outputs": [],
   "source": [
    "fpath = pl.Path(\"../data/recharge.txt\")"
   ]
  },
  {
   "cell_type": "code",
   "execution_count": null,
   "id": "b9ab729c-b13f-4e3d-9112-10716137fe5b",
   "metadata": {},
   "outputs": [],
   "source": [
    "recharge_d = np.genfromtxt(fpath, dtype=[(\"x\", float), (\"y\", float)])"
   ]
  },
  {
   "cell_type": "code",
   "execution_count": null,
   "id": "7a2275d8-6b6f-446c-8201-7c84ab06da46",
   "metadata": {},
   "outputs": [],
   "source": [
    "npts = 1000\n",
    "dx = 1.0 / npts"
   ]
  },
  {
   "cell_type": "code",
   "execution_count": null,
   "id": "aaad6952-4c51-4ee9-9d68-47d11845b44a",
   "metadata": {},
   "outputs": [],
   "source": [
    "x = np.arange(dx / 2, 1.0, dx)\n",
    "x.shape"
   ]
  },
  {
   "cell_type": "code",
   "execution_count": null,
   "id": "ccd2d4ba-3ac6-4d9d-a863-b55a788e012f",
   "metadata": {},
   "outputs": [],
   "source": [
    "top = np.interp(x, top_d[\"x\"], top_d[\"y\"])"
   ]
  },
  {
   "cell_type": "code",
   "execution_count": null,
   "id": "ae7261d0-a0c9-49c4-8f5c-9bc585c84902",
   "metadata": {},
   "outputs": [],
   "source": [
    "bot = np.interp(x, bot_d[\"x\"], bot_d[\"y\"])"
   ]
  },
  {
   "cell_type": "code",
   "execution_count": null,
   "id": "49ce94b2-e54a-4a29-b9f2-91dae79ea9b3",
   "metadata": {},
   "outputs": [],
   "source": [
    "cryo = np.interp(x, cryo_d[\"x\"], cryo_d[\"y\"])"
   ]
  },
  {
   "cell_type": "code",
   "execution_count": null,
   "id": "e0757344-5de0-4c64-820c-bb0e535036c4",
   "metadata": {},
   "outputs": [],
   "source": [
    "recharge = np.interp(x, recharge_d[\"x\"], recharge_d[\"y\"], left=np.nan, right=np.nan)"
   ]
  },
  {
   "cell_type": "code",
   "execution_count": null,
   "id": "f349f036-fc48-4265-b1ed-6d3684b2de9d",
   "metadata": {},
   "outputs": [],
   "source": [
    "plt.plot(x, top)\n",
    "ax = plt.gca()\n",
    "ax.plot(x, bot)\n",
    "ax.plot(x, cryo)\n",
    "ax.plot(x, recharge)"
   ]
  },
  {
   "cell_type": "code",
   "execution_count": null,
   "id": "93b36c26-2abb-4cd0-9d06-a604e81272b0",
   "metadata": {},
   "outputs": [],
   "source": [
    "data = np.zeros((npts), dtype=[(\"x\", float), (\"top\", float), (\"bottom\", float), (\"cryosphere\", float), (\"recharge\", float)])"
   ]
  },
  {
   "cell_type": "code",
   "execution_count": null,
   "id": "295205ff-2314-4609-b3c0-f22d2b73798b",
   "metadata": {},
   "outputs": [],
   "source": [
    "data[\"x\"] = x\n",
    "data[\"top\"] = top\n",
    "data[\"bottom\"] = bot\n",
    "data[\"cryosphere\"] = cryo\n",
    "data[\"recharge\"] = recharge"
   ]
  },
  {
   "cell_type": "code",
   "execution_count": null,
   "id": "f8e21d8a-ed54-44ed-b2c1-28e63408b63e",
   "metadata": {},
   "outputs": [],
   "source": [
    "fpath = pl.Path(\"../data/model_elevations.csv\")"
   ]
  },
  {
   "cell_type": "code",
   "execution_count": null,
   "id": "3fe0d2ac-957b-471b-b85e-ae879136c75e",
   "metadata": {},
   "outputs": [],
   "source": [
    "np.savetxt(fpath, data, delimiter=\",\", header=\",\".join(data.dtype.names))"
   ]
  },
  {
   "cell_type": "code",
   "execution_count": null,
   "id": "80673903-8b68-46bf-bd3a-3b7734eba572",
   "metadata": {},
   "outputs": [],
   "source": [
    "list(data.dtype.names)"
   ]
  },
  {
   "cell_type": "code",
   "execution_count": null,
   "id": "f373a7bd-498f-4f93-ac33-ff2c29620110",
   "metadata": {},
   "outputs": [],
   "source": []
  }
 ],
 "metadata": {
  "kernelspec": {
   "display_name": "Python 3 (ipykernel)",
   "language": "python",
   "name": "python3"
  },
  "language_info": {
   "codemirror_mode": {
    "name": "ipython",
    "version": 3
   },
   "file_extension": ".py",
   "mimetype": "text/x-python",
   "name": "python",
   "nbconvert_exporter": "python",
   "pygments_lexer": "ipython3",
   "version": "3.10.14"
  }
 },
 "nbformat": 4,
 "nbformat_minor": 5
}
